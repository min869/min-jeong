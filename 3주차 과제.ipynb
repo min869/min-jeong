{
 "cells": [
  {
   "cell_type": "code",
   "execution_count": 17,
   "metadata": {},
   "outputs": [
    {
     "data": {
      "text/plain": [
       "['X에 대한 편미분',\n",
       " y*(x + y)*(-x/(x + y)**2 + 1/(x + y))/x,\n",
       " 'Y에 대한 편미분',\n",
       " -y/(x + y) + log(x/(x + y))]"
      ]
     },
     "execution_count": 17,
     "metadata": {},
     "output_type": "execute_result"
    }
   ],
   "source": [
    "#[1] 함수 𝑓(𝑥,𝑦) = 𝑦𝑠𝑖𝑛(2𝑥𝑦)와 𝑓(𝑥,𝑦) = 𝑦ln(𝑥/𝑥+𝑦)에대하여 𝜕𝑓/𝜕𝑥,𝜕𝑓/𝜕𝑦를 구하여라.\n",
    "\n",
    "from sympy import *\n",
    "\n",
    "x, y, z = symbols('x y z') # Sympy 에서는 symbols() 를 이용해서 변수를 정의\n",
    "\n",
    "\n",
    "# 𝑓(𝑥,𝑦) = 𝑦𝑠𝑖𝑛(2𝑥𝑦)\n",
    "\n",
    "diff1 = [] # 리스트 함수 설정\n",
    "\n",
    "z = y*sin(2*x*y)\n",
    "\n",
    "# 𝑓(𝑥,𝑦) = 𝑦ln(𝑥/𝑥+𝑦)\n",
    "\n",
    "diff2 = []\n",
    "\n",
    "z = y*ln(x/(x+y))\n",
    "\n",
    "# 미분 함수는 diff()\n",
    "zprime_x = diff(z, x) # z 함수를 x에 대해 편미분\n",
    "zprime_y = diff(z, y) # z 함수를 y에 대해 편미분\n",
    "\n",
    "diff1 = [\"X에 대한 편미분\", zprime_x, \"Y에 대한 편미분\", zprime_y]\n",
    "diff2 = [\"X에 대한 편미분\", zprime_x, \"Y에 대한 편미분\", zprime_y]\n",
    "\n",
    "\n",
    "diff1\n",
    "diff2"
   ]
  },
  {
   "cell_type": "code",
   "execution_count": 27,
   "metadata": {
    "scrolled": true
   },
   "outputs": [
    {
     "data": {
      "text/plain": [
       "['X에 대한 편미분',\n",
       " y*(x + y)*(-x/(x + y)**2 + 1/(x + y))/x,\n",
       " 'Y에 대한 편미분',\n",
       " -y/(x + y) + log(x/(x + y))]"
      ]
     },
     "execution_count": 27,
     "metadata": {},
     "output_type": "execute_result"
    }
   ],
   "source": [
    "#[2] 𝑓(𝑥,𝑦) = 𝑥2 + 𝑥𝑦 + 𝑦2, 𝑥 = 𝑠 + 𝑡, 𝑦 = 𝑠𝑡에 대하여 연쇄법칙을 이용하여 𝜕𝑓/𝜕𝑠,𝜕𝑓/𝜕𝑡을 찾아라.\n",
    "\n",
    "from sympy import *\n",
    "diff1 = [] \n",
    "\n",
    "x, y, z, s, t = symbols('x y z s t')\n",
    "\n",
    "z = x**2 + x*y + y**2     # z = f(x, y)\n",
    "\n",
    "x_st = s + t  # x = x(s, t)\n",
    "y_st = s*t    # y = y(s, t)\n",
    "\n",
    "diff1 = [\"X에 대한 편미분\", zprime_x, \"Y에 대한 편미분\", zprime_y]\n",
    "\n",
    "diff1"
   ]
  },
  {
   "cell_type": "code",
   "execution_count": 47,
   "metadata": {},
   "outputs": [
    {
     "data": {
      "text/plain": [
       "(1/(2*sqrt(x + y*z)), z/(2*sqrt(x + y*z)), y/(2*sqrt(x + y*z)))"
      ]
     },
     "execution_count": 47,
     "metadata": {},
     "output_type": "execute_result"
    }
   ],
   "source": [
    "#[3] 𝑓(𝑥,𝑦,z) = √(x + yz) 에 대하여 점 𝑃(1,3, 1)에서 기울기벡터를찾아라.\n",
    "\n",
    "import math\n",
    "from sympy import *\n",
    "\n",
    "# f(x, y, w) (다변수 함수)의 그래디언트(Gradient, 기울기)\n",
    "\n",
    "x, y, z, w = symbols('x y z w')\n",
    "gradient = () # 튜플 설정\n",
    "\n",
    "w = sqrt(x + y*z)\n",
    "\n",
    "wprime_x = diff(w, x) # w 함수를 x에 대해 편미분\n",
    "wprime_y = diff(w, y) # w 함수를 y에 대해 편미분\n",
    "wprime_z = diff(w, z) # w 함수를 z에 대해 편미분\n",
    "\n",
    "gradient = (wprime_x, wprime_y, wprime_z)\n",
    "\n",
    "gradient"
   ]
  },
  {
   "cell_type": "code",
   "execution_count": 49,
   "metadata": {},
   "outputs": [
    {
     "name": "stdout",
     "output_type": "stream",
     "text": [
      "1/4 1/4 3/4\n"
     ]
    }
   ],
   "source": [
    "#점 𝑃(1,3, 1) 대입\n",
    "x = 1\n",
    "y = 3\n",
    "z = 1\n",
    "\n",
    "p1 = 1/(2*sqrt(x + y*z))\n",
    "p2 = z/(2*sqrt(x + y*z))\n",
    "p3 = y/(2*sqrt(x + y*z))\n",
    "\n",
    "print (p1, p2, p3)"
   ]
  }
 ],
 "metadata": {
  "kernelspec": {
   "display_name": "Python 3",
   "language": "python",
   "name": "python3"
  },
  "language_info": {
   "codemirror_mode": {
    "name": "ipython",
    "version": 3
   },
   "file_extension": ".py",
   "mimetype": "text/x-python",
   "name": "python",
   "nbconvert_exporter": "python",
   "pygments_lexer": "ipython3",
   "version": "3.7.5"
  }
 },
 "nbformat": 4,
 "nbformat_minor": 4
}
